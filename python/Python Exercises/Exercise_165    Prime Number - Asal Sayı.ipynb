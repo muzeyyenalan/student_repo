{
  "cells": [
    {
      "cell_type": "markdown",
      "metadata": {
        "id": "Z_ZsgxSrT2hv"
      },
      "source": [
        "Exercise - 165\n",
        "\n",
        "Have the function MathChallenge(**num**) take the **num** parameter being passed and return the string **true** if the parameter is a prime number, otherwise return the string **false**. The range will be between 1 and 2^16.\n",
        "\n",
        "Examples\n",
        "\n",
        "Input: 19\n",
        "\n",
        "Output: true\n",
        "\n",
        "Input: 110\n",
        "\n",
        "Output: false"
      ]
    },
    {
      "cell_type": "code",
      "execution_count": 13,
      "metadata": {
        "colab": {
          "base_uri": "https://localhost:8080/"
        },
        "id": "gVwKk_NLT2nn",
        "outputId": "237f9d37-dc1d-4246-b82a-3ee51a686317"
      },
      "outputs": [
        {
          "data": {
            "text/plain": [
              "True"
            ]
          },
          "execution_count": 13,
          "metadata": {},
          "output_type": "execute_result"
        }
      ],
      "source": [
        "def prime(num) :\n",
        "  if num == 1 or num <= 0 :\n",
        "    return False\n",
        "  else :\n",
        "    for i in range(2, num) :\n",
        "      if num % i == 0 :\n",
        "        return False\n",
        "        break\n",
        "    else :\n",
        "      return True\n",
        "prime(19)"
      ]
    },
    {
      "cell_type": "code",
      "execution_count": 12,
      "metadata": {
        "colab": {
          "base_uri": "https://localhost:8080/"
        },
        "id": "AoJh_NdbVgaW",
        "outputId": "c0ac0d2c-35b2-4c30-fc6f-60716b777b10"
      },
      "outputs": [
        {
          "data": {
            "text/plain": [
              "True"
            ]
          },
          "execution_count": 12,
          "metadata": {},
          "output_type": "execute_result"
        }
      ],
      "source": [
        "def asal(n) :\n",
        "  if 1 <= n <= 2 ** 16 :\n",
        "    for i in range(2, n) :\n",
        "      if n % i == 0 :\n",
        "        return False\n",
        "      else :\n",
        "        return True\n",
        "asal(19)"
      ]
    }
  ],
  "metadata": {
    "colab": {
      "collapsed_sections": [],
      "name": "Ex - 165",
      "provenance": []
    },
    "kernelspec": {
      "display_name": "Python 3.8.10 64-bit",
      "language": "python",
      "name": "python3"
    },
    "language_info": {
      "name": "python",
      "version": "3.8.10"
    },
    "vscode": {
      "interpreter": {
        "hash": "a6406c68cc69647a4ba405e1a3f475fb67d7d59375c4d4c6a11bc8e45ddab6db"
      }
    }
  },
  "nbformat": 4,
  "nbformat_minor": 0
}
