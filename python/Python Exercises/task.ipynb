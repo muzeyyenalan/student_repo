{
 "cells": [
  {
   "cell_type": "code",
   "execution_count": null,
   "metadata": {},
   "outputs": [],
   "source": [
    "a = input(\"birinci kenar: \")\n",
    "b = input(\"iikinci kenar: \")\n",
    "\n",
    "x = a\n",
    "y = b\n",
    "\n"
   ]
  }
 ],
 "metadata": {
  "language_info": {
   "name": "python"
  },
  "orig_nbformat": 4
 },
 "nbformat": 4,
 "nbformat_minor": 2
}
