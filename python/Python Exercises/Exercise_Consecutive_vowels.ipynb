{
 "cells": [
  {
   "cell_type": "markdown",
   "metadata": {},
   "source": [
    "The purpose of this coding challenge is to write a program that checks if a word contains consecutive vowels or not.\n",
    "\n",
    "Learning Outcomes\n",
    "At the end of this coding challenge, students will be able to;\n",
    "\n",
    "Analyze a problem, identify, and apply programming knowledge for an appropriate solution.\n",
    "\n",
    "Implement conditional statements effectively to solve a problem.\n",
    "\n",
    "Implement loops to solve a problem.\n",
    "\n",
    "Execute operations on strings.\n",
    "\n",
    "Demonstrate their knowledge of algorithmic design principles by solving the problem effectively.\n",
    "\n",
    "Problem Statement\n",
    "In this coding challenge, you are going to write a program that takes a string and checks if it contains consecutive vowels or not. It should give Positive as an output if it contains consecutive vowels and Negative otherwise. For example saetqi string contains a adjacent to e, which means that it contains consecutive vowels. So it should give Positive as an output. On the other hand, if you take the string of statoqag, the output should be Negative.\n",
    "\n",
    "Expected Output:\n",
    "Please enter a string: gasdph\n",
    "Negative\n",
    "\n",
    "Please enter a string: aiou\n",
    "Positive\n",
    "\n",
    "Please enter a string: taoum\n",
    "Positive\n",
    "\n",
    "Please enter a string: a\n",
    "Negative"
   ]
  },
  {
   "cell_type": "code",
   "execution_count": null,
   "metadata": {},
   "outputs": [],
   "source": []
  },
  {
   "cell_type": "code",
   "execution_count": 82,
   "metadata": {},
   "outputs": [
    {
     "name": "stdout",
     "output_type": "stream",
     "text": [
      "positive\n"
     ]
    }
   ],
   "source": [
    "kelime=input(\"Bir kelime giriniz: \")\n",
    "vowels=[\"a\",\"e\",\"ı\",\"i\",\"u\",\"ü\",\"o\",\"ö\"]\n",
    "for i in range(len(kelime)):\n",
    "    if kelime[i] in vowels:\n",
    "        if kelime[i+1] in vowels:\n",
    "            print(\"positive\")\n",
    "            break\n",
    "        else:\n",
    "            pass\n",
    "    else:\n",
    "        print(\"negative\")"
   ]
  }
 ],
 "metadata": {
  "interpreter": {
   "hash": "1a77833348a6a05d98e15657e93193bb8cd72ba122c15fc4032e7389abddf7af"
  },
  "kernelspec": {
   "display_name": "Python 3.8.10 64-bit",
   "language": "python",
   "name": "python3"
  },
  "language_info": {
   "name": "python",
   "version": "3.8.10"
  },
  "orig_nbformat": 4
 },
 "nbformat": 4,
 "nbformat_minor": 2
}
