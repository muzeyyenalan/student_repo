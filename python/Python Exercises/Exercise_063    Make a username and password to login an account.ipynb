{
  "cells": [
    {
      "cell_type": "markdown",
      "metadata": {
        "id": "Az1CG9mQDjUu"
      },
      "source": [
        "**Exercise - 63 | ?input() | ?while loop**\n",
        "\n",
        "Lets make a username and password to login an account.\n",
        "Firstly define the username and password then take inputs for this two argument from user.\n",
        "Design python program 3 possibilities that first one is True user name and password, \n",
        "second is wrong username input and third is wrong password input. Then finish with try again output."
      ]
    },
    {
      "cell_type": "code",
      "execution_count": 2,
      "metadata": {
        "colab": {
          "base_uri": "https://localhost:8080/"
        },
        "id": "kPDhWf0oDja6",
        "outputId": "6090ac40-2bee-4ed1-8220-f4fe49f5cab0"
      },
      "outputs": [
        {
          "name": "stdout",
          "output_type": "stream",
          "text": [
            "Please enter your username: Oguz_9113\n",
            "Please enter your password: TCdho1773.\n",
            "You have successfully logged in!\n"
          ]
        }
      ],
      "source": [
        "username = input(\"Please enter your username: \")\n",
        "password = input(\"Please enter your password: \")\n",
        "\n",
        "while True :\n",
        "  if username == \"Oguz_9113\" and password == \"TCdho1773.\" :\n",
        "    print(\"You have successfully logged in!\")\n",
        "    break\n",
        "  elif username != \"Oguz_9113\" and password == \"TCdho1773.\" :\n",
        "    print(\"**Please check your username**\")\n",
        "    username = input(\"Please enter your username: \")\n",
        "    password = input(\"Please enter your password: \")\n",
        "  elif username != \"Oguz_9113\" and password != \"TCdho1773.\" :\n",
        "    print(\"**Please check your username and password**\")\n",
        "    username = input(\"Please enter your username: \")\n",
        "    password = input(\"Please enter your password: \")"
      ]
    }
  ],
  "metadata": {
    "colab": {
      "collapsed_sections": [],
      "name": "Exercise - 063",
      "provenance": []
    },
    "kernelspec": {
      "display_name": "Python 3.8.10 64-bit",
      "language": "python",
      "name": "python3"
    },
    "language_info": {
      "name": "python",
      "version": "3.8.10"
    },
    "vscode": {
      "interpreter": {
        "hash": "a6406c68cc69647a4ba405e1a3f475fb67d7d59375c4d4c6a11bc8e45ddab6db"
      }
    }
  },
  "nbformat": 4,
  "nbformat_minor": 0
}
